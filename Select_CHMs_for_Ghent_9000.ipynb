{
 "cells": [
  {
   "cell_type": "markdown",
   "metadata": {},
   "source": [
    "### Import Python libraries/packages"
   ]
  },
  {
   "cell_type": "code",
   "execution_count": 1,
   "metadata": {},
   "outputs": [],
   "source": [
    "import numpy as np                                      # Scientific computing package\n",
    "import numpy.ma as ma                                   # Import numpy mask\n",
    "import pandas as pd                                     # Working with dataframes\n",
    "import requests                                         # API calls\n",
    "import os                                               # File handling\n",
    "import re                                               # Python RegEx\n",
    "import rasterio as rio                                  # Working with geospatial raster data(GeoTiff)\n",
    "from rasterio.mask import mask                          # To mask raster files with shapes\n",
    "from shapely.geometry import Polygon                    # Import Shapely to work with polygons\n",
    "import plotly.graph_objects as go                       # Import Plotly library for 3D plotting"
   ]
  },
  {
   "cell_type": "markdown",
   "metadata": {},
   "source": [
    "### Try different addresses in city of Ghent to make a selection of Canopy Height Model Geotiff files "
   ]
  },
  {
   "cell_type": "code",
   "execution_count": 11,
   "metadata": {},
   "outputs": [],
   "source": [
    "# Retrieve Lambert 72 coordinates from address with API call\n",
    "def retrieve_coords(address):\n",
    "    req = requests.get(f\"http://loc.geopunt.be/geolocation/location?q={address}&c=1\")\n",
    "    x = req.json()['LocationResult'][0]['Location']['X_Lambert72']\n",
    "    y = req.json()['LocationResult'][0]['Location']['Y_Lambert72']\n",
    "    print(f\"Lambert72 coords of provided address: \\n x= {x} y= {y}\")\n",
    "    return x,y\n",
    "\n",
    "# Retrieve CHM map that contains these coordinates from CSV with bounding box coordinates per CHM map\n",
    "def retrieve_map(x,y):\n",
    "    maps = pd.read_csv('/home/becode/AI/3dhouse/chm.csv', sep=',')\n",
    "    maps = maps.filename[(maps.left < x) & (x < maps.right) & (maps.bottom < y) & (y < maps.top)]\n",
    "    path_open = maps.iloc[0]\n",
    "    print(f\"map retrieved from : {path_open}\")\n",
    "    return path_open"
   ]
  },
  {
   "cell_type": "code",
   "execution_count": 12,
   "metadata": {},
   "outputs": [],
   "source": [
    "addresses = ['Tortelduifstraat 22, 9000 Gent','Ooievaarstraat 94, 9000 Gent','Houtemlaan 21, 9000 Gent','Stormvogelstraat 14, 9000 Gent',\n",
    "           'Ebergiste De Deynestraat 2B, 9000 Gent', 'Louis Roelandtplein 15, 9000 Gent','Corneel Heymanslaan 20, 9000 Gent',\n",
    "           'Ottergemsesteenweg 183, 9000 Gent', 'Gangmakersstraat 18, 9000 Gent', 'Ter Platen 5, 9000 Gent','Mageleinstraat 82, 9000 Gent',\n",
    "            'Nieuwhof 68, 9000 Gent']"
   ]
  },
  {
   "cell_type": "code",
   "execution_count": 13,
   "metadata": {},
   "outputs": [
    {
     "name": "stdout",
     "output_type": "stream",
     "text": [
      "-> address: Tortelduifstraat 22, 9000 Gent\n",
      "Lambert72 coords of provided address: \n",
      " x= 102479.59 y= 195425.6\n",
      "map retrieved from : tile_chm_k22_68.tif\n",
      "-> address: Ooievaarstraat 94, 9000 Gent\n",
      "Lambert72 coords of provided address: \n",
      " x= 102946.11 y= 194450.68\n",
      "map retrieved from : tile_chm_k22_100.tif\n",
      "-> address: Houtemlaan 21, 9000 Gent\n",
      "Lambert72 coords of provided address: \n",
      " x= 102776.78 y= 193936.4\n",
      "map retrieved from : tile_chm_k22_132.tif\n",
      "-> address: Stormvogelstraat 14, 9000 Gent\n",
      "Lambert72 coords of provided address: \n",
      " x= 102569.99 y= 192071.03\n",
      "map retrieved from : tile_chm_k22_164.tif\n",
      "-> address: Ebergiste De Deynestraat 2B, 9000 Gent\n",
      "Lambert72 coords of provided address: \n",
      " x= 104072.6 y= 189868.08\n",
      "map retrieved from : tile_chm_k22_262.tif\n",
      "-> address: Louis Roelandtplein 15, 9000 Gent\n",
      "Lambert72 coords of provided address: \n",
      " x= 104694.48 y= 190155.4\n",
      "map retrieved from : tile_chm_k22_230.tif\n",
      "-> address: Corneel Heymanslaan 20, 9000 Gent\n",
      "Lambert72 coords of provided address: \n",
      " x= 105132.5 y= 190483.09\n",
      "map retrieved from : tile_chm_k22_231.tif\n",
      "-> address: Ottergemsesteenweg 183, 9000 Gent\n",
      "Lambert72 coords of provided address: \n",
      " x= 105120.62 y= 191648.3\n",
      "map retrieved from : tile_chm_k22_199.tif\n",
      "-> address: Gangmakersstraat 18, 9000 Gent\n",
      "Lambert72 coords of provided address: \n",
      " x= 104981.12 y= 191931.92\n",
      "map retrieved from : tile_chm_k22_198.tif\n",
      "-> address: Ter Platen 5, 9000 Gent\n",
      "Lambert72 coords of provided address: \n",
      " x= 105180.46 y= 192524.01\n",
      "map retrieved from : tile_chm_k22_167.tif\n",
      "-> address: Mageleinstraat 82, 9000 Gent\n",
      "Lambert72 coords of provided address: \n",
      " x= 104846.39 y= 193772.66\n",
      "map retrieved from : tile_chm_k22_134.tif\n",
      "-> address: Nieuwhof 68, 9000 Gent\n",
      "Lambert72 coords of provided address: \n",
      " x= 106301.25 y= 194067.35\n",
      "map retrieved from : tile_chm_k22_104.tif\n"
     ]
    }
   ],
   "source": [
    "for address in addresses:\n",
    "    print(f\"-> address: {address}\")\n",
    "    x, y = retrieve_coords(address)\n",
    "    retrieve_map(x,y)"
   ]
  },
  {
   "cell_type": "markdown",
   "metadata": {},
   "source": [
    "#### The range of maps is too big. Every CHM raster file is 4 Mb in size so I will look for maps only in city centre of Ghent within postal code 9000 rang"
   ]
  },
  {
   "cell_type": "markdown",
   "metadata": {},
   "source": [
    "### Narrow down to look for address in the city centre in postal code 9000 Ghent"
   ]
  },
  {
   "cell_type": "code",
   "execution_count": 14,
   "metadata": {},
   "outputs": [],
   "source": [
    "addresses = ['Prudens Van Duyseplein 1, 9000 Gent', 'Tentoonstellingslaan 65, 9000 Gent', 'Kouter 5, 9000 Gent',\n",
    "            'Voldersstraat 1, 9000 Gent','Penitentenstraat 28, 9000 Gent', 'Kartuizerlaan 135, 9000 Gent',\n",
    "            'Sint-Lievenspoortstraat 248, 9000 Gent', 'Lange Violettestraat 259, 9000 Gent', \n",
    "            'Snoekstraat 35, 9000 Gent','Ossenstraat 63, 9000 Gent','Franklin Rooseveltlaan 102, 9000 Gent',\n",
    "             'Sint-Annaplein 16, 9000 Gent', 'Keizer Karelstraat 1, 9000 Gent',\n",
    "            'Lucas Munichstraat 38, 9000 Gent','Gebroeders Vandeveldestraat 101, 9000 Gent', 'Sint-Hubertusstraat 21, 9000 Gent',\n",
    "            'Oude Houtlei 78, 9000 Gent', 'Burgstraat 118, 9000 Gent']"
   ]
  },
  {
   "cell_type": "code",
   "execution_count": 15,
   "metadata": {},
   "outputs": [
    {
     "name": "stdout",
     "output_type": "stream",
     "text": [
      "-> address: Prudens Van Duyseplein 1, 9000 Gent\n",
      "Lambert72 coords of provided address: \n",
      " x= 104612.22 y= 192696.02\n",
      "map retrieved from : tile_chm_k22_166.tif\n",
      "-> address: Tentoonstellingslaan 65, 9000 Gent\n",
      "Lambert72 coords of provided address: \n",
      " x= 105437.71 y= 192580.96\n",
      "map retrieved from : tile_chm_k22_167.tif\n",
      "-> address: Kouter 5, 9000 Gent\n",
      "Lambert72 coords of provided address: \n",
      " x= 104874.47 y= 193537.8\n",
      "map retrieved from : tile_chm_k22_134.tif\n",
      "-> address: Voldersstraat 1, 9000 Gent\n",
      "Lambert72 coords of provided address: \n",
      " x= 104861.67 y= 193743.43\n",
      "map retrieved from : tile_chm_k22_134.tif\n",
      "-> address: Penitentenstraat 28, 9000 Gent\n",
      "Lambert72 coords of provided address: \n",
      " x= 104983.72 y= 194440.28\n",
      "map retrieved from : tile_chm_k22_102.tif\n",
      "-> address: Kartuizerlaan 135, 9000 Gent\n",
      "Lambert72 coords of provided address: \n",
      " x= 105042.13 y= 194973.05\n",
      "map retrieved from : tile_chm_k22_103.tif\n",
      "-> address: Sint-Lievenspoortstraat 248, 9000 Gent\n",
      "Lambert72 coords of provided address: \n",
      " x= 105664.77 y= 192465.45\n",
      "map retrieved from : tile_chm_k22_167.tif\n",
      "-> address: Lange Violettestraat 259, 9000 Gent\n",
      "Lambert72 coords of provided address: \n",
      " x= 105582.79 y= 193041.95\n",
      "map retrieved from : tile_chm_k22_135.tif\n",
      "-> address: Snoekstraat 35, 9000 Gent\n",
      "Lambert72 coords of provided address: \n",
      " x= 106078.32 y= 193210.01\n",
      "map retrieved from : tile_chm_k22_136.tif\n",
      "-> address: Ossenstraat 63, 9000 Gent\n",
      "Lambert72 coords of provided address: \n",
      " x= 105878.31 y= 193659.66\n",
      "map retrieved from : tile_chm_k22_135.tif\n",
      "-> address: Franklin Rooseveltlaan 102, 9000 Gent\n",
      "Lambert72 coords of provided address: \n",
      " x= 105231.0 y= 193103.93\n",
      "map retrieved from : tile_chm_k22_135.tif\n",
      "-> address: Sint-Annaplein 16, 9000 Gent\n",
      "Lambert72 coords of provided address: \n",
      " x= 105496.76 y= 193470.86\n",
      "map retrieved from : tile_chm_k22_135.tif\n",
      "-> address: Keizer Karelstraat 1, 9000 Gent\n",
      "Lambert72 coords of provided address: \n",
      " x= 105335.35 y= 193927.27\n",
      "map retrieved from : tile_chm_k22_135.tif\n",
      "-> address: Lucas Munichstraat 38, 9000 Gent\n",
      "Lambert72 coords of provided address: \n",
      " x= 105682.07 y= 194111.6\n",
      "map retrieved from : tile_chm_k22_103.tif\n",
      "-> address: Gebroeders Vandeveldestraat 101, 9000 Gent\n",
      "Lambert72 coords of provided address: \n",
      " x= 104358.94 y= 193548.96\n",
      "map retrieved from : tile_chm_k22_134.tif\n",
      "-> address: Sint-Hubertusstraat 21, 9000 Gent\n",
      "Lambert72 coords of provided address: \n",
      " x= 104808.02 y= 192965.19\n",
      "map retrieved from : tile_chm_k22_166.tif\n",
      "-> address: Oude Houtlei 78, 9000 Gent\n",
      "Lambert72 coords of provided address: \n",
      " x= 104282.05 y= 193772.13\n",
      "map retrieved from : tile_chm_k22_134.tif\n",
      "-> address: Burgstraat 118, 9000 Gent\n",
      "Lambert72 coords of provided address: \n",
      " x= 104215.32 y= 194229.85\n",
      "map retrieved from : tile_chm_k22_102.tif\n"
     ]
    }
   ],
   "source": [
    "for address in addresses:\n",
    "    print(f\"-> address: {address}\")\n",
    "    x, y = retrieve_coords(address)\n",
    "    retrieve_map(x,y)"
   ]
  },
  {
   "cell_type": "markdown",
   "metadata": {},
   "source": [
    "#### I will select geotiff files:   adjacent k22_102, k22_103, k22_104, adjacent k22_134, k22_135, k22_136, adjacent k22_166, k22_167, k22_168\n",
    "#### They will create a 3X3 grid for the city centre of Ghent"
   ]
  },
  {
   "cell_type": "markdown",
   "metadata": {},
   "source": [
    "### Update earlier code to catch exceptions in address format and to make sure an address requested is in my selection of CHM raster files for city centre Ghent"
   ]
  },
  {
   "cell_type": "markdown",
   "metadata": {},
   "source": [
    "#### Delete old file path for a CHM file in chm.csv"
   ]
  },
  {
   "cell_type": "code",
   "execution_count": 82,
   "metadata": {},
   "outputs": [
    {
     "name": "stdout",
     "output_type": "stream",
     "text": [
      "                                       filename      left    bottom     right  \\\n",
      "0  /media/becode/EXT/CHMsplit/tile_chm_k1_0.tif  145000.0  246000.0  146000.0   \n",
      "1  /media/becode/EXT/CHMsplit/tile_chm_k1_1.tif  146000.0  246000.0  147000.0   \n",
      "2  /media/becode/EXT/CHMsplit/tile_chm_k1_2.tif  147000.0  246000.0  148000.0   \n",
      "3  /media/becode/EXT/CHMsplit/tile_chm_k1_3.tif  148000.0  246000.0  149000.0   \n",
      "4  /media/becode/EXT/CHMsplit/tile_chm_k1_4.tif  149000.0  246000.0  150000.0   \n",
      "\n",
      "        top  \n",
      "0  247000.0  \n",
      "1  247000.0  \n",
      "2  247000.0  \n",
      "3  247000.0  \n",
      "4  247000.0  \n",
      "            filename      left    bottom     right       top\n",
      "0  tile_chm_k1_0.tif  145000.0  246000.0  146000.0  247000.0\n",
      "1  tile_chm_k1_1.tif  146000.0  246000.0  147000.0  247000.0\n",
      "2  tile_chm_k1_2.tif  147000.0  246000.0  148000.0  247000.0\n",
      "3  tile_chm_k1_3.tif  148000.0  246000.0  149000.0  247000.0\n",
      "4  tile_chm_k1_4.tif  149000.0  246000.0  150000.0  247000.0\n"
     ]
    }
   ],
   "source": [
    "df = pd.read_csv('/home/becode/AI/3dhouse/chm.csv', index_col = 0, sep = ',')\n",
    "print(df.head(5))\n",
    "def split(string):\n",
    "    last_part = string.split('/')[-1]\n",
    "    return last_part\n",
    "df.filename = df.filename.astype(str)\n",
    "df.filename = df.filename.apply(split)\n",
    "print(df.head(5))\n",
    "df = df.to_csv('/home/becode/AI/3dhouse/chm.csv')"
   ]
  },
  {
   "cell_type": "markdown",
   "metadata": {},
   "source": [
    "#### List of selected CHM tifs"
   ]
  },
  {
   "cell_type": "code",
   "execution_count": 22,
   "metadata": {},
   "outputs": [],
   "source": [
    "tif = ['tile_chm_k22_102.tif', 'tile_chm_k22_103.tif', 'tile_chm_k22_104.tif', \n",
    "        'tile_chm_k22_134.tif', 'tile_chm_k22_135.tif', 'tile_chm_k22_136.tif',\n",
    "        'tile_chm_k22_166.tif', 'tile_chm_k22_167.tif', 'tile_chm_k22_168.tif']"
   ]
  },
  {
   "cell_type": "markdown",
   "metadata": {},
   "source": [
    "#### Updated functions to retrieve coordinates, polygon, masking and plotting"
   ]
  },
  {
   "cell_type": "code",
   "execution_count": 23,
   "metadata": {},
   "outputs": [],
   "source": [
    "\"\"\"\n",
    "Retrieve Lambert 72 coordinates from an address with API call\n",
    "\"\"\"\n",
    "def retrieve_coords(address):\n",
    "    try:\n",
    "        req = requests.get(f\"http://loc.geopunt.be/geolocation/location?q={address}&c=1\")\n",
    "        x = req.json()['LocationResult'][0]['Location']['X_Lambert72']\n",
    "        y = req.json()['LocationResult'][0]['Location']['Y_Lambert72']\n",
    "        print(\"-> Lambert72 coords of provided address: \\n x= \", x, \" y= \", y)\n",
    "        return x,y\n",
    "    except:\n",
    "        message = \"Address coordinates could not be found.\"\n",
    "        print(message)\n",
    "        return message\n",
    "\n",
    "\"\"\"\n",
    "Retrieve correct Canopy Height Model map to mask with polygon of house shape\n",
    "\"\"\"\n",
    "def retrieve_map(x,y):\n",
    "    \"\"\"\n",
    "    Create Pandas dataframe from csv file that indexes all splitted CHM raster files and their path, then look\n",
    "    for the file that contains my x,y Lambert72 coords and return the path from the dataframe\n",
    "    \"\"\"\n",
    "    maps = pd.read_csv('/home/becode/AI/3dhouse/chm.csv', sep=',')\n",
    "    maps = maps.filename[(maps.left < x) & (x < maps.right) & (maps.bottom < y) & (y < maps.top)]\n",
    "    path_open = maps.iloc[0]\n",
    "    \n",
    "    if path_open in tif:\n",
    "        filepath = '/home/becode/AI/3dhouse/'\n",
    "        path = os.path.join(filepath, path_open)\n",
    "        print(path)\n",
    "        return path\n",
    "    else:\n",
    "        message = \"Address coordinates not in selection.\"\n",
    "        print(message)\n",
    "        return message\n",
    "\"\"\"\n",
    "Retrieve house polygon from address with API call\n",
    "\"\"\"\n",
    "def retrieve_polygon(address):\n",
    "    try: \n",
    "        result = re.search(\"^([A-z- ]+)([0-9]+[A-z]?),[ ]?([0-9]+)[ ]?([A-z]+)\", address)\n",
    "        street = result.group(1)\n",
    "        nb = result.group(2)\n",
    "        pc = result.group(3)\n",
    "        city = result.group(4)\n",
    "        \"\"\"\n",
    "        Request polygon from API : https://api.basisregisters.dev-vlaanderen.be/v1/percelen/{objectId} \n",
    "        and retrieve .json object\n",
    "        \"\"\"\n",
    "        req = requests.get(f\"https://api.basisregisters.dev-vlaanderen.be/v1/adresmatch?gemeentenaam={city}&straatnaam={street}&huisnummer={nb}&postcode={pc}\").json()\n",
    "        objectId = req[\"adresMatches\"][0][\"adresseerbareObjecten\"][0][\"objectId\"]\n",
    "        req = requests.get(f\"https://api.basisregisters.dev-vlaanderen.be/v1/gebouweenheden/{objectId}\").json()\n",
    "        objectId = req[\"gebouw\"][\"objectId\"]\n",
    "        req = requests.get(f\"https://api.basisregisters.dev-vlaanderen.be/v1/gebouwen/{objectId}\").json()\n",
    "        polygon = [req[\"geometriePolygoon\"][\"polygon\"]]\n",
    "        print(polygon)\n",
    "        return polygon\n",
    "        \n",
    "    except:\n",
    "        message = \"Polygon for address could not be retrieved.\"\n",
    "        print(message)\n",
    "        return message\n",
    "\n",
    "def mask_polygon(poly, path):\n",
    "    \"\"\"\n",
    "    Open path of CHM to mask polygon shape from. The polygon is a function parameter as well and is used in the\n",
    "    mask function as a shape to mask by\n",
    "    \"\"\"\n",
    "    path_chm = path\n",
    "    map_chm = rio.open(path_chm)\n",
    "    print('print OK')\n",
    "    \"\"\"\n",
    "    Mask or clip the polygon shape from the CHM raster data with rasterio mask function, this returns a \n",
    "    masked raster file and a transform\n",
    "    \"\"\"\n",
    "    mask_chm, mask_chm_transform = mask(dataset=map_chm, shapes=poly, crop=True, nodata=0, filled=True, indexes=1)\n",
    "    print('-> mask succesful')\n",
    "    return mask_chm\n",
    "\n",
    "def dim_house(poly , mask_chm) :\n",
    "    \"\"\"\n",
    "    Create polygon shape with Shapely function Polygon from coordinates of polygon list\n",
    "    \"\"\"\n",
    "    polygon = Polygon(poly[0]['coordinates'][0])\n",
    "    \"\"\"\n",
    "    I need to exclude 0 values from my masked CHM array to calculate a mean height  so I use numpy mask for masking\n",
    "     the 0's and hereby create the array 'noZeros', sonp.mean(noZeros) will calculate mean height\n",
    "    \"\"\"\n",
    "    noZeros = ma.masked_values(mask_chm, 0)\n",
    "    \"\"\"\n",
    "    Create dict with house dimensions: area of ground floor, circumference, mean height(see above), max height \n",
    "    and possible floors\n",
    "    \"\"\"\n",
    "    dimensions = {\"area[m2] : \" : round(polygon.area,1), \"circumference[m] : \": round(polygon.length,1),\n",
    "                  \"mean height[m] : \" : round(ma.mean(noZeros),1), \"max height[m] : \" : round(np.max(mask_chm),1),\n",
    "                  \"floors : \" : int((np.max(mask_chm) // 3))}\n",
    "    print('-> house dimensions:')\n",
    "    for key,value in dimensions.items():\n",
    "        print(key, value)\n",
    "    return dimensions\n",
    "    \n",
    "def D3Plot(address, mask, dimensions):\n",
    "    dims = ''\n",
    "    for key,value in dimensions.items():\n",
    "        dims += str(key) + str(value) +',\\n'\n",
    "    # plots a surface plot of the mask from polygon out of CHM\n",
    "    fig = go.Figure(data=[go.Surface(z=mask)])\n",
    "    fig.update_layout(title='3D house plot of ' + address + '<br><br>' + dims, width=800, height=750)\n",
    "    fig.show()\n",
    "    return"
   ]
  },
  {
   "cell_type": "markdown",
   "metadata": {},
   "source": [
    "#### Make Plotly plot in browser for Jupyter"
   ]
  },
  {
   "cell_type": "code",
   "execution_count": 24,
   "metadata": {},
   "outputs": [],
   "source": [
    "import plotly.io as pio\n",
    "pio.renderers.default = \"browser\""
   ]
  },
  {
   "cell_type": "markdown",
   "metadata": {},
   "source": [
    "#### Check functioning"
   ]
  },
  {
   "cell_type": "code",
   "execution_count": 25,
   "metadata": {},
   "outputs": [
    {
     "name": "stdout",
     "output_type": "stream",
     "text": [
      "-> Please provide an address (or \"q\" to quit) : Snoekstraat 35, 9000 Gent\n",
      "Valid address format\n",
      "-> Lambert72 coords of provided address: \n",
      " x=  106078.32  y=  193210.01\n",
      "/home/becode/AI/3dhouse/tile_chm_k22_136.tif\n",
      "[{'coordinates': [[[106087.66730889678, 193215.58208815753], [106084.20650889724, 193218.78637615964], [106073.97482889146, 193208.60884015262], [106077.30846089125, 193205.2780241482], [106086.28311689943, 193214.20519215614], [106087.66730889678, 193215.58208815753]]], 'type': 'Polygon'}]\n",
      "print OK\n",
      "-> mask succesful\n",
      "-> house dimensions:\n",
      "area[m2] :  68.4\n",
      "circumference[m] :  38.5\n",
      "mean height[m] :  7.8\n",
      "max height[m] :  13.0\n",
      "floors :  4\n"
     ]
    }
   ],
   "source": [
    "address = input('-> Please provide an address (or \"q\" to quit) : ')\n",
    "while not(re.match(\"^([A-z-]+)\\s([0-9]+[A-z]?),\\s([0-9]+)\\s([A-z]+)\", address)): # RegEx to verify format\n",
    "    print(f\"Invalid address format!\")\n",
    "    address = input('Please provide an address (or \"q\" to quit) : ')\n",
    "else:\n",
    "    print(f\"Valid address format\")\n",
    "    x, y = retrieve_coords(address)\n",
    "    path =  retrieve_map(x,y)\n",
    "    poly = retrieve_polygon(address)\n",
    "    maskchm = mask_polygon(poly, path)\n",
    "    dimensions = dim_house(poly , maskchm)\n",
    "    D3Plot(address, maskchm, dimensions)"
   ]
  }
 ],
 "metadata": {
  "kernelspec": {
   "display_name": "3dhouse",
   "language": "python",
   "name": "3dhouse"
  },
  "language_info": {
   "codemirror_mode": {
    "name": "ipython",
    "version": 3
   },
   "file_extension": ".py",
   "mimetype": "text/x-python",
   "name": "python",
   "nbconvert_exporter": "python",
   "pygments_lexer": "ipython3",
   "version": "3.8.5"
  }
 },
 "nbformat": 4,
 "nbformat_minor": 4
}
